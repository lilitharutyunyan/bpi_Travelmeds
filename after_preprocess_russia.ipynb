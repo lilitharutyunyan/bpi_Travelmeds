{
 "cells": [
  {
   "cell_type": "code",
   "execution_count": 1,
   "id": "2ea70c41",
   "metadata": {},
   "outputs": [],
   "source": [
    "import pandas as pd\n",
    "from after_preprocess_function import split_strength\n",
    "from after_preprocess_function import reorder_dfs\n",
    "import re"
   ]
  },
  {
   "cell_type": "code",
   "execution_count": 2,
   "id": "6321631e",
   "metadata": {},
   "outputs": [],
   "source": [
    "map_ru_in = {\"Intravenous\" : \"Injection\"}"
   ]
  },
  {
   "cell_type": "code",
   "execution_count": 3,
   "id": "48bd0265",
   "metadata": {},
   "outputs": [],
   "source": [
    "df_russia = pd.read_csv('data_preprocessed/RussianRegisters_tr.csv', index_col=0)"
   ]
  },
  {
   "cell_type": "code",
   "execution_count": 4,
   "id": "e177f6c0",
   "metadata": {},
   "outputs": [],
   "source": [
    "df_russia['product_en'] = df_russia['product_en'].apply(lambda x: re.sub(r'[^\\w]', ' ', x))\n",
    "df_russia['drug'] = df_russia['drug'].fillna(df_russia['product_en'])\n",
    "df_russia['route'] = df_russia['route'].map(map_ru_in)\n",
    "df_russia['route'] = df_russia['route'].str.upper()\n",
    "df_russia['product_en'] = df_russia['product_en'].str.upper()\n",
    "df_russia['drug'] = df_russia['drug'].str.upper()\n",
    "df_russia['country'] = 'RUSSIA'\n",
    "\n",
    "df_russia = df_russia.drop(columns=['info','medgroup'])\n",
    "df_russia['product'] = df_russia['product'] + ' - ' + df_russia['product_en']\n",
    "df_russia = df_russia.drop(columns=['product_en'])\n",
    "\n",
    "df_russia[['strength','unit']] = pd.DataFrame(df_russia['strength'].apply(split_strength).tolist(), index=df_russia.index)\n",
    "df_russia = reorder_dfs(df_russia)"
   ]
  },
  {
   "cell_type": "code",
   "execution_count": 5,
   "id": "ff683e61",
   "metadata": {},
   "outputs": [],
   "source": [
    "df_russia.to_csv('data_after_preprocess/data_russia.csv', index=False)"
   ]
  }
 ],
 "metadata": {
  "kernelspec": {
   "display_name": "Python 3",
   "language": "python",
   "name": "python3"
  },
  "language_info": {
   "codemirror_mode": {
    "name": "ipython",
    "version": 3
   },
   "file_extension": ".py",
   "mimetype": "text/x-python",
   "name": "python",
   "nbconvert_exporter": "python",
   "pygments_lexer": "ipython3",
   "version": "3.8.8"
  }
 },
 "nbformat": 4,
 "nbformat_minor": 5
}
