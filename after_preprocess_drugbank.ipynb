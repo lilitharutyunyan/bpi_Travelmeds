{
 "cells": [
  {
   "cell_type": "code",
   "execution_count": 9,
   "id": "5321141c",
   "metadata": {},
   "outputs": [],
   "source": [
    "import pandas as pd\n",
    "import lxml.etree as etree\n",
    "import re\n",
    "import numpy as np\n",
    "from after_preprocess_function import split_strength\n",
    "from after_preprocess_function import reorder_dfs"
   ]
  },
  {
   "cell_type": "code",
   "execution_count": 2,
   "id": "3d39a5f9",
   "metadata": {},
   "outputs": [],
   "source": [
    "tree = etree.parse(\"data_preprocessed/full database.xml\")\n",
    "namespace = {\"db\" : \"http://www.drugbank.ca\"}"
   ]
  },
  {
   "cell_type": "code",
   "execution_count": 4,
   "id": "abbda4fc",
   "metadata": {},
   "outputs": [],
   "source": [
    "all_drugs = []\n",
    "drug_synonyms = []\n",
    "for drug in tree.findall(\"db:drug\", namespace):\n",
    "    #all_products = []\n",
    "    for products in drug.find(\"db:products\", namespace):\n",
    "        #all_products.append([\n",
    "        drug_name = drug.find(\"db:name\", namespace).text,\n",
    "        synonyms = [syn.text for syn in drug.find(\"db:synonyms\", namespace)],\n",
    "        product = products.find(\"db:name\", namespace).text,\n",
    "        country = products.find(\"db:country\", namespace).text,\n",
    "        strength = products.find(\"db:strength\", namespace).text,\n",
    "        route = products.find(\"db:route\", namespace).text,\n",
    "        #    ])\n",
    "        all_drugs.append([drug_name, product, country, strength, route])\n",
    "        drug_synonyms.append([drug_name, synonyms])"
   ]
  },
  {
   "cell_type": "code",
   "execution_count": 5,
   "id": "daea0acd",
   "metadata": {},
   "outputs": [],
   "source": [
    "matches = []\n",
    "for a in drug_synonyms:\n",
    "    for b in a[1][0]:\n",
    "        matches.append([a[0][0],b])"
   ]
  },
  {
   "cell_type": "code",
   "execution_count": 6,
   "id": "8850d562",
   "metadata": {},
   "outputs": [],
   "source": [
    "mylist = []\n",
    "for list in all_drugs:\n",
    "    sublist = []\n",
    "    for item in list:\n",
    "        sublist.append(item[0])\n",
    "    mylist.append(sublist)"
   ]
  },
  {
   "cell_type": "code",
   "execution_count": 7,
   "id": "33fd6499",
   "metadata": {},
   "outputs": [],
   "source": [
    "df_drug_bank = pd.DataFrame(mylist, \n",
    "columns = [\"drug\",\"product\",\"country\", \"strength\", \"route\"])"
   ]
  },
  {
   "cell_type": "code",
   "execution_count": 10,
   "id": "70924b6a",
   "metadata": {},
   "outputs": [],
   "source": [
    "df_drug_bank[['strength','unit']] = pd.DataFrame(df_drug_bank['strength'].apply(split_strength).tolist(), index=df_drug_bank.index)\n",
    "df_drug_bank = reorder_dfs(df_drug_bank)"
   ]
  },
  {
   "cell_type": "code",
   "execution_count": 12,
   "id": "1e335117",
   "metadata": {},
   "outputs": [],
   "source": [
    "df_drug_bank.to_csv('data_after_preprocess/data_drug_bank.csv', index=False)"
   ]
  },
  {
   "cell_type": "code",
   "execution_count": 18,
   "id": "3dad8575",
   "metadata": {},
   "outputs": [],
   "source": [
    "synonyms = pd.DataFrame(matches,columns=['drug','synonym']).drop_duplicates()"
   ]
  },
  {
   "cell_type": "code",
   "execution_count": 19,
   "id": "23bba059",
   "metadata": {},
   "outputs": [],
   "source": [
    "synonyms['drug'] = synonyms['drug'].str.upper()\n",
    "synonyms['synonym'] = synonyms['synonym'].str.upper()"
   ]
  },
  {
   "cell_type": "code",
   "execution_count": 20,
   "id": "9ec4102a",
   "metadata": {},
   "outputs": [],
   "source": [
    "synonyms.to_csv('data_after_preprocess/synonyms.csv', index=False)"
   ]
  }
 ],
 "metadata": {
  "kernelspec": {
   "display_name": "Python 3",
   "language": "python",
   "name": "python3"
  },
  "language_info": {
   "codemirror_mode": {
    "name": "ipython",
    "version": 3
   },
   "file_extension": ".py",
   "mimetype": "text/x-python",
   "name": "python",
   "nbconvert_exporter": "python",
   "pygments_lexer": "ipython3",
   "version": "3.8.8"
  }
 },
 "nbformat": 4,
 "nbformat_minor": 5
}
