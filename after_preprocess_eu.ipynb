{
 "cells": [
  {
   "cell_type": "code",
   "execution_count": 1,
   "id": "5f57a086",
   "metadata": {},
   "outputs": [],
   "source": [
    "import pandas as pd\n",
    "from after_preprocess_function import split_strength\n",
    "from after_preprocess_function import reorder_dfs\n",
    "import re"
   ]
  },
  {
   "cell_type": "code",
   "execution_count": 3,
   "id": "f06a70c2",
   "metadata": {},
   "outputs": [],
   "source": [
    "df_eu = pd.read_csv('data_preprocessed/data_eu.csv', index_col=0)"
   ]
  },
  {
   "cell_type": "code",
   "execution_count": 7,
   "id": "4704e582",
   "metadata": {},
   "outputs": [],
   "source": [
    "df_eu['product'] = df_eu['Productname']"
   ]
  },
  {
   "cell_type": "code",
   "execution_count": 8,
   "id": "ca12ab2a",
   "metadata": {},
   "outputs": [],
   "source": [
    "df_eu[['strength','unit']] = pd.DataFrame(df_eu['strength'].apply(split_strength).tolist(), index=df_eu.index)\n",
    "\n",
    "df_eu = reorder_dfs(df_eu)"
   ]
  },
  {
   "cell_type": "code",
   "execution_count": 10,
   "id": "53714061",
   "metadata": {},
   "outputs": [],
   "source": [
    "df_eu.to_csv('data_after_preprocess/data_eu.csv', index=False)"
   ]
  }
 ],
 "metadata": {
  "kernelspec": {
   "display_name": "Python 3",
   "language": "python",
   "name": "python3"
  },
  "language_info": {
   "codemirror_mode": {
    "name": "ipython",
    "version": 3
   },
   "file_extension": ".py",
   "mimetype": "text/x-python",
   "name": "python",
   "nbconvert_exporter": "python",
   "pygments_lexer": "ipython3",
   "version": "3.8.8"
  }
 },
 "nbformat": 4,
 "nbformat_minor": 5
}
