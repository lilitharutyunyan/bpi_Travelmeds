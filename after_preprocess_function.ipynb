{
 "cells": [
  {
   "cell_type": "code",
   "execution_count": 5,
   "id": "3613f02e",
   "metadata": {},
   "outputs": [],
   "source": [
    "import numpy as np\n",
    "import re\n",
    "import pandas as pd"
   ]
  },
  {
   "cell_type": "code",
   "execution_count": 6,
   "id": "5c630dc0",
   "metadata": {},
   "outputs": [],
   "source": [
    "def split_strength(string):\n",
    "    if type(string) == type(7.5):\n",
    "        return np.nan, np.nan\n",
    "    elif string in ('nan','[]',''):\n",
    "        return np.nan, np.nan\n",
    "    elif string is None:\n",
    "        return np.nan, np.nan\n",
    "    elif string.isnumeric():\n",
    "        return string, np.nan\n",
    "\n",
    "    else:\n",
    "        try:\n",
    "            value = re.findall(r'[\\d.]+', string)[0]\n",
    "            unit = re.findall(r'[\\s]?(?:mg \\/ ml| mg \\/ l| mg|mg| g \\/ ml| g \\/ l| g|g| µg \\/ ml| µg \\/ l| µg|µg| mcg \\/ ml| mcg \\/ l| mcg|mcg| ml|ml| l|l)',string)[0]\n",
    "            return value, unit\n",
    "        except:\n",
    "            return np.nan, np.nan"
   ]
  },
  {
   "cell_type": "code",
   "execution_count": 7,
   "id": "61364103",
   "metadata": {},
   "outputs": [],
   "source": [
    "def reorder_dfs(df):\n",
    "    df_new = pd.DataFrame()\n",
    "    df_new['product'] = df['product'].str.upper()\n",
    "    df_new['country'] = df['country'].str.upper()\n",
    "    df_new['drug'] = df['drug'].str.upper()\n",
    "    df_new['route'] = df['route'].str.upper()\n",
    "    df_new['strength'] = df['strength']\n",
    "    df_new['unit'] = df['unit']\n",
    "    return df_new"
   ]
  },
  {
   "cell_type": "code",
   "execution_count": null,
   "id": "b3419ef4",
   "metadata": {},
   "outputs": [],
   "source": []
  }
 ],
 "metadata": {
  "kernelspec": {
   "display_name": "Python 3",
   "language": "python",
   "name": "python3"
  },
  "language_info": {
   "codemirror_mode": {
    "name": "ipython",
    "version": 3
   },
   "file_extension": ".py",
   "mimetype": "text/x-python",
   "name": "python",
   "nbconvert_exporter": "python",
   "pygments_lexer": "ipython3",
   "version": "3.8.8"
  }
 },
 "nbformat": 4,
 "nbformat_minor": 5
}
