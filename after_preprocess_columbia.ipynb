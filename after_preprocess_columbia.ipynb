{
 "cells": [
  {
   "cell_type": "code",
   "execution_count": 1,
   "id": "84f2d3cf",
   "metadata": {},
   "outputs": [],
   "source": [
    "import pandas as pd\n",
    "from after_preprocess_function import split_strength\n",
    "from after_preprocess_function import reorder_dfs\n",
    "import re"
   ]
  },
  {
   "cell_type": "code",
   "execution_count": 2,
   "id": "d931f871",
   "metadata": {},
   "outputs": [],
   "source": [
    "columbia_route_mapper = {'ORAL' : \"Oral\",\n",
    "    'PARENTERAL' : \"Injection\",\n",
    "    'TOPIC (EXTERNAL)' : \"Topical\",\n",
    "    'INTRAMUSCULAR' : \"Injection\",\n",
    "    'INTRAVENOUS' : \"Injection\",\n",
    "    'INHALATION' : \"Inhalation\",\n",
    "    'OFTÑLMICA' : \"Topical\",\n",
    "    'SUBCUTANEA' : \"Injection\",\n",
    "    'CONJUNTIVAL' : \"Topical\",\n",
    "    'INTRA-ARTERIAL' : \"Injection\" ,\n",
    "    'INTRADERMAL' : \"Injection\",\n",
    "    'INTRAVENOUS INFUSION' : \"Injection\",\n",
    "    'INTRATRAQUEAL' : \"Injection\",\n",
    "    'INFILTRATIVA - LOCAL' : \"Topical\",\n",
    "    'INTRAPERITONEAL' : \"Injection\",\n",
    "    'RECTAL' : \"Injection\",\n",
    "    'EPIDURAL': \"Injection\",\n",
    "    'INTRA-CARDIAC' : \"Injection\",\n",
    "    'VAGINAL' : \"Injection\",\n",
    "    'INTRAVASCULAR IN HEMODIALYSIS' : \"Injection\",\n",
    "    'INTRANASAL' : \"Injection\" ,\n",
    "    'T??PICA OCULAR' : \"Topical\",\n",
    "    'IRRIGACI??N' : \"Injection\" ,\n",
    "    'INTRA-ARTICULAR' : \"Injection\",\n",
    "    'DENTAL' : \"Topical\",\n",
    "    'INTRAOCULAR' : \"Injection\" ,\n",
    "    'URETHRAL' : \"Injection\" ,\n",
    "    'HEMODIALYSIS' : \"Injection\",\n",
    "    'INSUFFLATION' : \"Injection\",\n",
    "    'TRANSDERMAL' : \"Topical\",\n",
    "    'INFILTRATIVE - BLOCKAGES' : \"Injection\",\n",
    "    'INTRAVESICAL' : \"Injection\" ,\n",
    "    'PERFUSION INTRAVENOSA' : \"Injection\",\n",
    "    'SUBLINGUAL' : \"Oral\",\n",
    "    'RAQUIDEA' : \"Injection\",\n",
    "    'INTRAUTERINE' : \"Injection\" ,\n",
    "    'INTRATHECAL' : \"Injection\" ,\n",
    "    'INTRACEREBROVENTRICULAR' : \"Injection\",\n",
    "    'INTRACAVERNOSA' : \"Injection\" }\n",
    "\n",
    "col_col_mapper = {'Product':'product',\n",
    "                 'Drug administration route':'route',\n",
    "                 'Active Principle':'drug',\n",
    "                 }"
   ]
  },
  {
   "cell_type": "code",
   "execution_count": 3,
   "id": "49e7a8da",
   "metadata": {},
   "outputs": [],
   "source": [
    "df_columbia = pd.read_csv('data_preprocessed/Columbia_final.csv', index_col=0)"
   ]
  },
  {
   "cell_type": "code",
   "execution_count": 4,
   "id": "0d4e5fd1",
   "metadata": {},
   "outputs": [],
   "source": [
    "df_columbia = df_columbia.rename(columns=col_col_mapper)\n",
    "df_columbia = df_columbia.drop(columns=['Unit Reference','Producer'])\n",
    "\n",
    "df_columbia['route'] = df_columbia['route'].map(columbia_route_mapper)\n",
    "df_columbia['country'] = 'COLUMBIA'\n",
    "\n",
    "df_columbia[['strength','unit']] = pd.DataFrame(df_columbia['strength'].apply(split_strength).tolist(), index=df_columbia.index)\n",
    "\n",
    "df_columbia = reorder_dfs(df_columbia)"
   ]
  },
  {
   "cell_type": "code",
   "execution_count": 5,
   "id": "8b426b27",
   "metadata": {},
   "outputs": [],
   "source": [
    "df_columbia.to_csv('data_after_preprocess/data_columbia.csv', index=False)"
   ]
  }
 ],
 "metadata": {
  "kernelspec": {
   "display_name": "Python 3",
   "language": "python",
   "name": "python3"
  },
  "language_info": {
   "codemirror_mode": {
    "name": "ipython",
    "version": 3
   },
   "file_extension": ".py",
   "mimetype": "text/x-python",
   "name": "python",
   "nbconvert_exporter": "python",
   "pygments_lexer": "ipython3",
   "version": "3.8.8"
  }
 },
 "nbformat": 4,
 "nbformat_minor": 5
}
