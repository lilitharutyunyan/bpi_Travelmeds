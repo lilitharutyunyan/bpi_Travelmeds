{
 "cells": [
  {
   "cell_type": "code",
   "execution_count": 1,
   "id": "8c921ee1",
   "metadata": {},
   "outputs": [],
   "source": [
    "import pandas as pd\n",
    "from after_preprocess_function import split_strength\n",
    "from after_preprocess_function import reorder_dfs\n",
    "import re\n",
    "import ast"
   ]
  },
  {
   "cell_type": "code",
   "execution_count": 2,
   "id": "abb54849",
   "metadata": {},
   "outputs": [],
   "source": [
    "in_col_mapper = {'Medicine Name':'product'}\n",
    "map_ru_in = {\"Intravenous\" : \"Injection\"}"
   ]
  },
  {
   "cell_type": "code",
   "execution_count": 3,
   "id": "33e0699f",
   "metadata": {},
   "outputs": [],
   "source": [
    "df_india = pd.read_csv('data_preprocessed/India_short.csv', index_col=0)"
   ]
  },
  {
   "cell_type": "code",
   "execution_count": 4,
   "id": "09536947",
   "metadata": {},
   "outputs": [],
   "source": [
    "df_india = df_india.rename(columns=in_col_mapper)\n",
    "df_india['route'] = df_india['route'].map(map_ru_in)\n",
    "df_india['route'] = df_india['route'].str.upper()\n",
    "df_india['product'] = df_india['product'].str.upper()\n",
    "df_india['country'] = 'INDIA'\n",
    "df_india = df_india.drop(columns=['Uses','Therapeutic Class'])\n",
    "df_india = df_india.drop_duplicates()\n",
    "df_india['strength'] = df_india['strength'].apply(lambda x: re.sub('\\(|\\)','',x))\n",
    "\n",
    "df_india['drug'] = df_india['drug'].apply(lambda x: ast.literal_eval(x))\n",
    "df_india['strength'] = df_india['strength'].apply(lambda x: str(x).split(','))\n",
    "\n",
    "df_india = df_india.set_index(keys=['product','route','country']).apply(lambda x: x.apply(pd.Series).stack()).reset_index().drop('level_3',1)\n",
    "\n",
    "df_india['drug'] = df_india['drug'].apply(lambda x: x.replace('+ ',''))\n",
    "\n",
    "df_india[['strength','unit']] = pd.DataFrame(df_india['strength'].apply(split_strength).tolist(), index=df_india.index)\n",
    "df_india = reorder_dfs(df_india)"
   ]
  },
  {
   "cell_type": "code",
   "execution_count": 5,
   "id": "3ab609dc",
   "metadata": {},
   "outputs": [],
   "source": [
    "df_india.to_csv('data_after_preprocess/data_india.csv', index=False)"
   ]
  },
  {
   "cell_type": "code",
   "execution_count": null,
   "id": "886ee612",
   "metadata": {},
   "outputs": [],
   "source": []
  }
 ],
 "metadata": {
  "kernelspec": {
   "display_name": "Python 3",
   "language": "python",
   "name": "python3"
  },
  "language_info": {
   "codemirror_mode": {
    "name": "ipython",
    "version": 3
   },
   "file_extension": ".py",
   "mimetype": "text/x-python",
   "name": "python",
   "nbconvert_exporter": "python",
   "pygments_lexer": "ipython3",
   "version": "3.8.8"
  }
 },
 "nbformat": 4,
 "nbformat_minor": 5
}
